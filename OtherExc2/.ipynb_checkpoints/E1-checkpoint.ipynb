{
 "cells": [
  {
   "cell_type": "code",
   "execution_count": 2,
   "metadata": {},
   "outputs": [],
   "source": [
    "class BankAccount:\n",
    "    def __init__(self):\n",
    "        self.owner = None\n",
    "        self.balance = 0.0\n",
    "        \n",
    "    def deposit(amount):\n",
    "        pass\n",
    "    \n",
    "    def withdraw(amount):\n",
    "        pass\n",
    "    \n",
    "    def displayBalance():\n",
    "        pass\n",
    "    \n",
    "class CurrentAccount(BankAccount):\n",
    "    def __init__(self):\n",
    "        BankAccount.__init__(self)\n",
    "        self.accountFee = None\n",
    "        self.overdraftLimt = 0.0\n",
    "        \n",
    "    def displayBalance():\n",
    "        pass\n",
    "    \n",
    "    def withdraw(amount):\n",
    "        pass\n",
    "    \n",
    "class SavingsAccount(BankAccount):\n",
    "    def __init__(self):\n",
    "        BankAccount.__init__(self)\n",
    "        self.interestRate = 0.0\n",
    "        self.interestFrequency = None\n",
    "        \n",
    "    def computeInterest():\n",
    "        pass\n",
    "    \n",
    "    def displayBalance():\n",
    "        pass\n",
    "    \n",
    "    def withdraw(amount):\n",
    "        pass\n",
    "\n",
    "class RegularSaverAccount(SavingsAccount):\n",
    "    def __init__(self):\n",
    "        SavingsAccount.__init__(self)\n",
    "        self.mouthlyMinimumDeposit = 0.0\n",
    "        self.monthlyMaximumDeposit = 0.0\n",
    "    def checkDeposite():\n",
    "        pass\n",
    "    def __applyDepositPenalty():\n",
    "        pass\n",
    "    def withdraw(amount):\n",
    "        pass\n",
    "    \n",
    "class LumpSumAccount(SavingsAccount):\n",
    "    def __init__(self):\n",
    "        SavingAccount.__init__(self)\n",
    "        self.withdrawalsAllowed = True\n",
    "        self.savingsTerm = 0\n",
    "        \n",
    "    def withdraw(amount):\n",
    "        pass"
   ]
  },
  {
   "cell_type": "code",
   "execution_count": 7,
   "metadata": {},
   "outputs": [],
   "source": []
  },
  {
   "cell_type": "code",
   "execution_count": null,
   "metadata": {
    "collapsed": true
   },
   "outputs": [],
   "source": []
  }
 ],
 "metadata": {
  "kernelspec": {
   "display_name": "Python 3",
   "language": "python",
   "name": "python3"
  },
  "language_info": {
   "codemirror_mode": {
    "name": "ipython",
    "version": 3
   },
   "file_extension": ".py",
   "mimetype": "text/x-python",
   "name": "python",
   "nbconvert_exporter": "python",
   "pygments_lexer": "ipython3",
   "version": "3.6.2"
  }
 },
 "nbformat": 4,
 "nbformat_minor": 2
}
