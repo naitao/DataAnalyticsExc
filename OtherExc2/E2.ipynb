{
 "cells": [
  {
   "cell_type": "code",
   "execution_count": 22,
   "metadata": {
    "collapsed": true
   },
   "outputs": [],
   "source": [
    "class Repile:\n",
    "    def __init__(self, habitat):\n",
    "        self.Endotherm = True\n",
    "        self.Habitat = habitat\n",
    "        self.Name = None\n",
    "        \n",
    "    def talk(self):\n",
    "        raise NotImplementedError(\"Subclass must implement abstract method\")\n",
    "        \n",
    "    def swim(self):\n",
    "        raise NotImplementedError(\"Subclass must implement abstract method\")\n",
    "        \n",
    "    def __repr__(self):\n",
    "        return self.Name\n",
    "    \n",
    "    def showMyType(self):\n",
    "        raise NotImplementedError(\"Subclass must implement abstract method\")\n",
    "        \n",
    "class Turtle(Repile):\n",
    "    def __init__(self, habitat):\n",
    "        Repile.__init__(self, habitat)\n",
    "        self.Name = 'Turtle'\n",
    "        self.Endotherm = False\n",
    "        self.Habitat = habitat\n",
    "            \n",
    "    def talk(self):\n",
    "        return \"...\"\n",
    "    def swim(self):\n",
    "        print(\"I am drowing\")\n",
    "    def __repr__(self):\n",
    "        return self.Name\n",
    "    def showMyType(self):\n",
    "        print('Turtle')\n",
    "    def __lifeCycle(self):\n",
    "        print(\"I can live for more than 100 years\")\n",
    "        \n",
    "class Snake(Repile):\n",
    "    def __init__(self, habitat):\n",
    "        Repile.__init__(self, habitat)\n",
    "        self.Name = 'Snake'\n",
    "        self.Endotherm = False\n",
    "        self.Habitat = habitat\n",
    "        \n",
    "    def talk(self):\n",
    "        return \"Siiiiii...\"\n",
    "    def swim(self):\n",
    "        print(\"I am swimming\")\n",
    "    def __repr__(self):\n",
    "        return self.Name\n",
    "    def showMyType(self):\n",
    "        print('Snake')\n",
    "    def __bodySize(self):\n",
    "        print(\"I am very small!\")\n",
    "        \n",
    "class Crocodile(Repile):\n",
    "    def __init__(self, habitat):\n",
    "        Repile.__init__(self, habitat)\n",
    "        self.Name = 'Crocodile'\n",
    "        self.Endotherm = False\n",
    "        self.Habitat = habitat\n",
    "        \n",
    "    def talk(self):\n",
    "        return \"wow\"\n",
    "    def swim(self):\n",
    "        print(\"I am swimming\")\n",
    "        \n",
    "    def __repr__(self):\n",
    "        return self.Name\n",
    "    def showMyType(self):\n",
    "        print('Crocodile')\n",
    "    def __aggressivity(self):\n",
    "        print(\"I am so aggressive!\")\n",
    "    \n",
    "        \n",
    "class Zoo:\n",
    "    def __init__(self):\n",
    "        self.Animals = []\n",
    "    \n",
    "    def add(self, object):\n",
    "        self.Animals.append(object)\n",
    "    \n",
    "    def printAnimals(self):\n",
    "        for object in self.Animals:\n",
    "            object.showMyType()\n",
    "            print(object.talk())\n",
    "                "
   ]
  },
  {
   "cell_type": "code",
   "execution_count": 23,
   "metadata": {},
   "outputs": [
    {
     "name": "stdout",
     "output_type": "stream",
     "text": [
      "Turtle\n",
      "...\n",
      "Snake\n",
      "Siiiiii...\n",
      "Crocodile\n",
      "wow\n"
     ]
    }
   ],
   "source": [
    "\n",
    "A = Turtle(\"Land\")\n",
    "B = Snake(\"Grass\")\n",
    "C = Crocodile(\"River\")\n",
    "Z = Zoo()\n",
    "Z.add(A)\n",
    "Z.add(B)\n",
    "Z.add(C)\n",
    "Z.printAnimals()"
   ]
  },
  {
   "cell_type": "code",
   "execution_count": null,
   "metadata": {
    "collapsed": true
   },
   "outputs": [],
   "source": []
  }
 ],
 "metadata": {
  "kernelspec": {
   "display_name": "Python 3",
   "language": "python",
   "name": "python3"
  },
  "language_info": {
   "codemirror_mode": {
    "name": "ipython",
    "version": 3
   },
   "file_extension": ".py",
   "mimetype": "text/x-python",
   "name": "python",
   "nbconvert_exporter": "python",
   "pygments_lexer": "ipython3",
   "version": "3.6.2"
  }
 },
 "nbformat": 4,
 "nbformat_minor": 2
}
