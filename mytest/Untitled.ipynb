{
 "cells": [
  {
   "cell_type": "code",
   "execution_count": 4,
   "metadata": {
    "scrolled": true
   },
   "outputs": [
    {
     "name": "stdout",
     "output_type": "stream",
     "text": [
      "\n",
      "\n",
      "\n",
      "\n",
      "\t\t\t\t\t\t\t\t\t\t\n",
      "\t\t\t\t\t\t\t\t\t\t\t\t\t\t\t\t\t\t\t\t\t\t\t\t\t\t\t\t\t\t\t\t\t\t\t\t\t\t\t\t\t\t\t\t\t\t\t\t\t\t\t\t\t\t\t\t\t\t\t\t\t\t\t\n",
      "\n",
      "<!doctype html>\n",
      "<!--[if lt IE 7]> <html class=\"no-js lt-ie9 lt-ie8 lt-ie7\" lang=\"en\" prefix=\"og:http://ogp.me/ns# fb:http://www.facebook.com/2008/fbml irishtimes:http://www.irishtimes.com/\" version=\"HTML+RDFa 1.1\"> <![endif]-->\n",
      "<!--[if IE 7]>    <html class=\"no-js lt-ie9 lt-ie8\" lang=\"en\" prefix=\"og:http://ogp.me/ns# fb:http://www.facebook.com/2008/fbml irishtimes:http://www.irishtimes.com/\" version=\"HTML+RDFa 1.1\"> <![endif]-->\n",
      "<!--[if IE 8]>    <html class=\"no-js lt-ie9\" lang=\"en\" prefix=\"og:http://ogp.me/ns# fb:http://www.facebook.com/2008/fbml irishtimes:http://www.irishtimes.com/\" version=\"HTML+RDFa 1.1\"> <![endif]-->\n",
      "<!--[if IE 9]>    <html class=\"no-js eq-ie9\" lang=\"en\" prefix=\"og:http://ogp.me/ns# fb:http://www.facebook.com/2008/fbml irishtimes:http://www.irishtimes.com/\" version=\"HTML+RDFa 1.1\"> <![endif]-->\n",
      "<!--[if gt IE 9]><!--> <html class=\"no-js\" lang=\"en\" prefix=\"og:http://ogp.me/ns# fb:http://www.facebook.com/2008/fbml rNews:http://www.iptc.org/ns/1.0 irishtimes:http://www.irishtimes.com/\" version=\"HTML+RDFa 1.1\"> <!-- <![endif]-->\n",
      "<head>\n",
      "\n",
      "<!-- Google Tag Manager -->\n",
      "<script>\n",
      "    dataLayer = [{'Page_Type':'metered_article', 'Topic':'news,science,astronomy-and-space,konstantin-batygin,mike-brown,california-institute-of-technology,kuiper'}];\n",
      "</script>\n",
      "<script>(function(w,d,s,l,i){w[l]=w[l]||[];w[l].push({'gtm.start':new Date().getTime(),event:'gtm.js'});var f=d.getElementsByTagName(s)[0],j=d.createElement(s),dl=l!='dataLayer'?'&l='+l:'';j.async=true;j.src='//www.googletagmanager.com/gtm.js?id='+i+dl;f.parentNode.insertBefore(j,f);})(window,document,'script','dataLayer','GTM-M9Q373');</script>\n",
      "<!-- End Google Tag Manager -->\n",
      "\n",
      "<!-- Google Optimize Page hiding snippet -->\n",
      "<style>.async-hide { opacity: 0 !important}</style>\n",
      "<script>(function(a,s,y,n,c,h,i,d,e){s.className+=' '+y;h.start=1*new Date;\n",
      "    h.end=i=function(){s.className=s.className.replace(RegExp(' ?'+y),'')};\n",
      "    (a[n]=a[n]||[]).hide=h;setTimeout(function(){i();h.end=null},c);h.timeout=c;\n",
      "})(window,document.documentElement,'async-hide','dataLayer',4000, {'GTM-M9Q373':true});</script>\n",
      "<!-- End Google Optimize Page hiding snippet -->\n",
      "\n",
      "    <script type=\"text/javascript\">var _it_page_revision_id = '201303211700'; </script>\n",
      "\n",
      "\t<meta charset=\"utf-8\" />\n",
      "\t<meta http-equiv=\"X-UA-Compatible\" content=\"IE=edge,chrome=1\" />\n",
      "\n",
      "\t<meta name=\"apple-itunes-app\" content=\"app-id=365544593\">\n",
      "\n",
      "                    \n",
      "        <link rel=\"canonical\" href=\"https://www.irishtimes.com/news/science/evidence-of-new-planet-10-times-size-of-earth-in-solar-system-1.2505306\" />\n",
      "            <link rel=\"amphtml\" href=\"https://www.irishtimes.com/news/science/evidence-of-new-planet-10-times-size-of-earth-in-solar-system-1.2505306?mode=amp\">\n",
      "        <link rel=\"alternate\" href=\"https://www.irishtimes.com/news/science/evidence-of-new-planet-10-times-size-of-earth-in-solar-system-1.2505306?mode=amp\">\n",
      "                <title>Evidence of new planet ‘10 times size of Earth’ in solar system</title>\n",
      "        <meta name=\"description\" content=\"Existence of ‘Planet Nine’ shown by examining gravitational influence on other bodies\" />\n",
      "    \n",
      "  \n",
      "      <meta property=\"vf:unique_id\" content=\"wwwirishtimescom12505306\" />\n",
      "\n",
      "         <meta itemprop=\"datePublished\" content=\"2016-01-21T10:12:50+0000\"/>\n",
      "\n",
      "    \n",
      "  <meta name=\"news_keywords\" content=\"News, Science, Astronomy & Space, Konstantin Batygin, Mike Brown, California Institute Of Technology, Kuiper\" />\n",
      "  <meta name=\"viewport\" content=\"width=device-width, initial-scale=1.0, minimum-scale=1.0, maximum-scale=2.0, user-scalable=yes, target-densitydpi=medium-dpi\" />\n",
      " <!-- <meta name=\"apple-mobile-web-app-capable\" content=\"yes\" />-->\n",
      "  <meta name=\"apple-mobile-web-app-status-bar-style\" content=\"black\" />\n",
      "      <meta name=\"robots\" content=\"all\" />\n",
      "    <meta name=\"format-detection\" content=\"telephone=no\" />\n",
      "\n",
      "  <link rel=\"shortcut icon\" href=\"/assets/images/favicons/favicon.ico\" />\n",
      "\t\n",
      "  <link rel=\"apple-touch-icon-precomposed\" href=\"/assets/images/favicons/apple-touch-icon-precomposed.png\" />\n",
      "  <link rel=\"apple-touch-icon-precomposed\" sizes=\"72x72\" href=\"/assets/images/favicons/apple-touch-icon-72x72-precomposed.png\" />\n",
      "  <link rel=\"apple-touch-icon-precomposed\" sizes=\"114x114\" href=\"/assets/images/favicons/apple-touch-icon-114x114-precomposed.png\" />\n",
      "  <link rel=\"apple-touch-icon-precomposed\" sizes=\"144x144\" href=\"/assets/images/favicons/apple-touch-icon-144x144-precomposed.png\" />\n",
      "\n",
      "    \n",
      "  <link rel=\"stylesheet\" href=\"/assets/css/framework.min.css?rev=20180201T111509\"/>\n",
      "  <!--<link rel=\"stylesheet\" href=\"/assets/css/index.css?rev=20180201T111509\"/>-->\n",
      "  \t\n",
      "\n",
      "<link href='https://fonts.googleapis.com/css?family=Merriweather:400,300,300italic,700,700italic,900,900italic,400italic'\n",
      "          rel='stylesheet' type='text/css'>\n",
      "    <link href='https://fonts.googleapis.com/css?family=Lato:400,100,100italic,300,300italic,400italic,700,700italic'\n",
      "          rel='stylesheet' type='text/css'>\n",
      "\n",
      "\n",
      "\n"
     ]
    }
   ],
   "source": [
    "import requests\n",
    "url = 'http://www.irishtimes.com/news/science/evidence-of-new-planet-10-times-size-of-earth-in-solar-system-1.2505306'\n",
    "html_page = requests.get(url).text\n",
    "print(html_page[:5000])"
   ]
  },
  {
   "cell_type": "code",
   "execution_count": null,
   "metadata": {},
   "outputs": [],
   "source": []
  },
  {
   "cell_type": "code",
   "execution_count": null,
   "metadata": {},
   "outputs": [],
   "source": []
  }
 ],
 "metadata": {
  "kernelspec": {
   "display_name": "Python 3",
   "language": "python",
   "name": "python3"
  },
  "language_info": {
   "codemirror_mode": {
    "name": "ipython",
    "version": 3
   },
   "file_extension": ".py",
   "mimetype": "text/x-python",
   "name": "python",
   "nbconvert_exporter": "python",
   "pygments_lexer": "ipython3",
   "version": "3.6.4"
  }
 },
 "nbformat": 4,
 "nbformat_minor": 2
}
