{
 "cells": [
  {
   "cell_type": "code",
   "execution_count": 19,
   "metadata": {
    "collapsed": true
   },
   "outputs": [],
   "source": [
    "import requests\n",
    "import os\n",
    "\n",
    "if not os.path.exists('PDF'):\n",
    "    os.makedirs('PDF')\n",
    "if not os.path.exists('TEXT'):\n",
    "    os.makedirs('TEXT')\n",
    "url1 = 'https://www.fiannafail.ie/download/An-Ireland-for-all-Fianna-FaCC81il-Manifesto.pdf'\n",
    "url2 = 'https://static.rasset.ie/documents/news/fg-economic-plan.pdf'\n",
    "\n",
    "request_object1 = requests.get(url1)\n",
    "request_object2 = requests.get(url2)\n",
    "\n",
    "# download pdf file to /PDF\n",
    "with open(\"PDF/An-Ireland-for-all-Fianna-FaCC81il-Manifesto.pdf\", \"wb\") as pdffile1:\n",
    "    #print(request_object.content[:500])\n",
    "    pdffile1.write(request_object1.content)\n",
    "with open(\"PDF/fg-economic-plan.pdf\", \"wb\") as pdffile2:\n",
    "    #print(request_object.content[:500])\n",
    "    pdffile2.write(request_object2.content)\n",
    "    \n",
    "# Convert pdf files into text and save them uner/TEXT\n",
    "\n",
    "!pdftotext -enc UTF-8 'PDF/An-Ireland-for-all-Fianna-FaCC81il-Manifesto.pdf' 'TEXT/An-Ireland-for-all-Fianna-FaCC81il-Manifesto.txt'\n",
    "!pdftotext -enc UTF-8 'PDF/fg-economic-plan.pdf' 'TEXT/fg-economic-plan.text'\n"
   ]
  },
  {
   "cell_type": "code",
   "execution_count": 15,
   "metadata": {},
   "outputs": [
    {
     "name": "stdout",
     "output_type": "stream",
     "text": [
      "An Ireland for all.\n",
      "\n",
      "Social Housing Units,\n",
      "• retain mortgage interest relief to 2020,\n",
      "• create a special savings scheme to help first time buyers save for their deposit,\n",
      "• tackle the homelessness emergency,\n",
      "\n",
      "Support with the quality & cost of living\n",
      "We will:\n",
      "• reduce and eliminate USC for low and middle income workers up to €80,000,\n",
      "• abolish Irish water and water charges,\n",
      "• cut VAT on ESB and gas bills from 13.5% to 13%,\n",
      "• reduce the monthly Drug Payment Scheme threshold to €100 per month\n",
      "• inc\n",
      "Number of sentences:  1782\n",
      "Number of words:  45526\n",
      "['grants', 'pupil', 'meet', 'tables', 'Fisheries', 'quality', 'surgeons', 'earn', 'tasked', 'accept', 'connected', 'Mixed', 'abandoned', 'restricted', '€15m', 'highlights', 'Pleanála', 'recognised', 'cloud', 'prepare', 'slowdown', 'Air', 'poor', 'proud', 'Unless', 'burglars', 'Fully', 'Standing', 'side-lines', 'sports', 'basic', '€1,000', 'calculations', 'alignment', 'comfort', 'taxation', '139', 'enjoy', 'disuse', 'rate-setting', 'unsuitable', 'member', 'Balance', 'buyers', 'commits', 'structure', 'days', 'teaching', 'settlement', 'claims', 'locked', 'ex-quota', 'Homecarer', 'million', 'drafting', 'radio', 'prioritised', 'invaluable', 'routinely', 'perceived', 'bill', 'electric', 'Foundation', 'Since', 'eroded', 'annually', 're-open', 'far', 'Ministerial', 'developmental', 'multi-national', 'facets', 'working', 'house', 'away', 'paramilitary', 'worst', 'co-ordination', 'sustained', 'semi-state', 'initiative', 'lost', 'Centres', 'fig-leaf', 'before', 'information', 'catered', 'locals', 'Rate', 'Partnerships', 'securing', 'River', 'Address', 'Ireland', 'Historically', 'Area', 'Anti-social', 'controls', 'incomes', 'offices']\n",
      "[('the', 1971), ('.', 1779), ('to', 1518), ('of', 1310), ('and', 1254), ('a', 1042), ('in', 742), ('will', 685), (',', 625), ('for', 577), ('...', 513), ('-', 471), ('We', 407), ('is', 380), ('on', 356), ('with', 303), ('that', 292), (')', 290), ('(', 287), ('be', 270)]\n"
     ]
    }
   ],
   "source": [
    "import numpy as np\n",
    "import nltk\n",
    "\n",
    "#Read the text file with text extracted from the original PDF\n",
    "with open('TEXT/An-Ireland-for-all-Fianna-FaCC81il-Manifesto.txt', 'rb') as f:\n",
    "    text_content = f.read().decode('UTF-8')\n",
    "# Read the first 500 characters\n",
    "print(text_content[:500])\n",
    "\n",
    "#Open the file where we stored the book \"Alice's Adventures in Wonderland\"\n",
    "#Load data into object text\n",
    "with open('TEXT/An-Ireland-for-all-Fianna-FaCC81il-Manifesto.txt', 'r') as file:\n",
    "    text = file.read()\n",
    "    \n",
    "#Example of Exploratory Analysis\n",
    "#Where in the text do given words occur? (visualisation)\n",
    "#What are the top-20 most frequent words in this book? (summarization)\n",
    "sentences = nltk.sent_tokenize(text)\n",
    "words = nltk.word_tokenize(text)\n",
    "#print(words[:10])\n",
    "print(\"Number of sentences: \", len(sentences))\n",
    "#print(sentences[:2])\n",
    "print(\"Number of words: \", len(words))\n",
    "#print(words[:100])\n",
    "unique_words = list(set(words))\n",
    "print(unique_words[:100])\n",
    "freqWords = nltk.FreqDist(words)\n",
    "#freqWords\n",
    "#sorted(freqWords.values())\n",
    "newFreqWords = sorted(freqWords.items(), key=lambda x:x[1], reverse=True)\n",
    "print(newFreqWords[:20])"
   ]
  },
  {
   "cell_type": "code",
   "execution_count": null,
   "metadata": {
    "collapsed": true
   },
   "outputs": [],
   "source": []
  }
 ],
 "metadata": {
  "kernelspec": {
   "display_name": "Python 3",
   "language": "python",
   "name": "python3"
  },
  "language_info": {
   "codemirror_mode": {
    "name": "ipython",
    "version": 3
   },
   "file_extension": ".py",
   "mimetype": "text/x-python",
   "name": "python",
   "nbconvert_exporter": "python",
   "pygments_lexer": "ipython3",
   "version": "3.6.2"
  }
 },
 "nbformat": 4,
 "nbformat_minor": 2
}
